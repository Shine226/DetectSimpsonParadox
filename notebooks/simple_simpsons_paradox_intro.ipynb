{
 "cells": [
  {
   "cell_type": "markdown",
   "metadata": {},
   "source": [
    "# What is Simpson's Paradox?\n",
    "\n",
    "An overview of Simpson's Paradox in the cases that we address in this project and how to detect it as well as breif complexity analysis of the problem"
   ]
  },
  {
   "cell_type": "code",
   "execution_count": 5,
   "metadata": {
    "collapsed": true
   },
   "outputs": [],
   "source": [
    "import numpy as np\n",
    "import pandas as pd\n",
    "import matplotlib.pylab as plt\n",
    "import seaborn as sns\n",
    "\n",
    "# for outputting all alone variables\n",
    "from IPython.core.interactiveshell import InteractiveShell\n",
    "InteractiveShell.ast_node_interactivity = \"all\""
   ]
  },
  {
   "cell_type": "markdown",
   "metadata": {},
   "source": [
    "It's generally discussed in terms of two variables, both discrete, though binary or mulit level cases are both poputlar.  A popular example is the berkeley admissions data set.  the claim was that it was iased againt women because t the univerisyt sclae it ws, but fom os depeartments they actually admitted wmen at much higher rates  but the departments tha had low aceptance rates wer the ones with most of the women applicants"
   ]
  },
  {
   "cell_type": "markdown",
   "metadata": {},
   "source": [
    "# Regression Based SImpson's Paradox\n",
    "\n",
    "\n",
    "It can manifest in how a decision variable relates to others that $x_k$ is predicted differently for different values of $x_j$ \n",
    "another way Simpson's Paradox could manifest is through latent clusters.  It can manifest in relationsships among variables.  "
   ]
  },
  {
   "cell_type": "code",
   "execution_count": 6,
   "metadata": {},
   "outputs": [
    {
     "data": {
      "text/plain": [
       "<matplotlib.collections.PathCollection at 0x7f55cb44c2e8>"
      ]
     },
     "execution_count": 6,
     "metadata": {},
     "output_type": "execute_result"
    },
    {
     "data": {
      "text/plain": [
       "<matplotlib.text.Text at 0x7f55cbcf7048>"
      ]
     },
     "execution_count": 6,
     "metadata": {},
     "output_type": "execute_result"
    },
    {
     "data": {
      "text/plain": [
       "<matplotlib.text.Text at 0x7f55cbcfc278>"
      ]
     },
     "execution_count": 6,
     "metadata": {},
     "output_type": "execute_result"
    },
    {
     "data": {
      "image/png": "[encoded data removed]",
      "text/plain": [
       "<matplotlib.figure.Figure at 0x7f55cbd39eb8>"
      ]
     },
     "metadata": {},
     "output_type": "display_data"
    }
   ],
   "source": [
    "# \n",
    "N = 100\n",
    "# sample data from 2 clusters\n",
    "mu = np.asarray([[1,1],[5,5]])\n",
    "\n",
    "z = np.random.randint(0,2,N)\n",
    "x = np.asarray([np.random.multivariate_normal(mu[z_i],[[.6,-1],[0,.6]]) for z_i in z])\n",
    "\n",
    "latent_df = pd.DataFrame(data=x,\n",
    "                       columns = ['x1', 'x2'])\n",
    "\n",
    "# now we add somoe more columns\n",
    "color_z = {0:'r', 1:'b'}\n",
    "char_zy = {0: {0:'x', 1:'o'}, 1:{0:'o', 1:'x'}}\n",
    "\n",
    "latent_df['color'] = [color_z[z_i] for z_i in z]\n",
    "y = np.random.choice([0,1],N,p=[.7,.3])\n",
    "latent_df['y'] = y\n",
    "latent_df['char'] = [char_zy[zi][yi] for zi,yi in zip(z,y)]\n",
    "\n",
    "plt.scatter(latent_df['x1'], latent_df['x2'],\n",
    "            c =  latent_df['color'], marker= 'o')\n",
    "#plt.scatter(clust_x['x1'], clust_x['x2'],\n",
    "          #  c =  clust_x['color'], marker= 'x')\n",
    "plt.xlabel('x_1')\n",
    "plt.ylabel('x_2')\n",
    "# , marker = 'char' , c = 'color'\n",
    "plt.show()"
   ]
  },
  {
   "cell_type": "markdown",
   "metadata": {},
   "source": [
    "in this, if we ignore the color, x_1 and x_2 are posiiely correlated, but in each color, they're negatively correlated.  "
   ]
  },
  {
   "cell_type": "code",
   "execution_count": 7,
   "metadata": {},
   "outputs": [
    {
     "data": {
      "text/plain": [
       "0.80838533760265141"
      ]
     },
     "execution_count": 7,
     "metadata": {},
     "output_type": "execute_result"
    },
    {
     "data": {
      "text/html": [
       "<div>\n",
       "<style>\n",
       "    .dataframe thead tr:only-child th {\n",
       "        text-align: right;\n",
       "    }\n",
       "\n",
       "    .dataframe thead th {\n",
       "        text-align: left;\n",
       "    }\n",
       "\n",
       "    .dataframe tbody tr th {\n",
       "        vertical-align: top;\n",
       "    }\n",
       "</style>\n",
       "<table border=\"1\" class=\"dataframe\">\n",
       "  <thead>\n",
       "    <tr style=\"text-align: right;\">\n",
       "      <th></th>\n",
       "      <th></th>\n",
       "      <th>x1</th>\n",
       "      <th>x2</th>\n",
       "    </tr>\n",
       "    <tr>\n",
       "      <th>color</th>\n",
       "      <th></th>\n",
       "      <th></th>\n",
       "      <th></th>\n",
       "    </tr>\n",
       "  </thead>\n",
       "  <tbody>\n",
       "    <tr>\n",
       "      <th rowspan=\"2\" valign=\"top\">b</th>\n",
       "      <th>x1</th>\n",
       "      <td>1.000000</td>\n",
       "      <td>-0.311011</td>\n",
       "    </tr>\n",
       "    <tr>\n",
       "      <th>x2</th>\n",
       "      <td>-0.311011</td>\n",
       "      <td>1.000000</td>\n",
       "    </tr>\n",
       "    <tr>\n",
       "      <th rowspan=\"2\" valign=\"top\">r</th>\n",
       "      <th>x1</th>\n",
       "      <td>1.000000</td>\n",
       "      <td>-0.540407</td>\n",
       "    </tr>\n",
       "    <tr>\n",
       "      <th>x2</th>\n",
       "      <td>-0.540407</td>\n",
       "      <td>1.000000</td>\n",
       "    </tr>\n",
       "  </tbody>\n",
       "</table>\n",
       "</div>"
      ],
      "text/plain": [
       "                x1        x2\n",
       "color                       \n",
       "b     x1  1.000000 -0.311011\n",
       "      x2 -0.311011  1.000000\n",
       "r     x1  1.000000 -0.540407\n",
       "      x2 -0.540407  1.000000"
      ]
     },
     "execution_count": 7,
     "metadata": {},
     "output_type": "execute_result"
    }
   ],
   "source": [
    "latent_df['x1'].corr(latent_df['x2'])\n",
    "latent_df.groupby('color')['x1','x2'].corr()"
   ]
  },
  {
   "cell_type": "markdown",
   "metadata": {},
   "source": [
    "So, we can see that the correlation between $x_1$ and $x_2$ is positive in the whole data set and negative in each subgroup.  This is Simpson's paradox. So, to detect Simpson's Paradox in a data set with $d$ continuous variables and $c$ discrete variables, we can compute correlation matrix for all of the data, one $d \\times d$ matrix.  Then for each of the $c$ discrete variables with $k_c$ levels we compute an additional $d \\times d$ matrix$ for each level of each variable.  \n",
    "\n",
    "So, we need to compute $1+ \\sum_{i = 1}^c k_i$ correlation matrices of size $d \\times d$ and compare the signs of each element in the lower half of all the $\\sum_{i = 1}^c k_i$ for subgroup levels to the first one. "
   ]
  }
 ],
 "metadata": {
  "kernelspec": {
   "display_name": "Python 3",
   "language": "python",
   "name": "python3"
  },
  "language_info": {
   "codemirror_mode": {
    "name": "ipython",
    "version": 3
   },
   "file_extension": ".py",
   "mimetype": "text/x-python",
   "name": "python",
   "nbconvert_exporter": "python",
   "pygments_lexer": "ipython3",
   "version": "3.6.1"
  }
 },
 "nbformat": 4,
 "nbformat_minor": 2
}
