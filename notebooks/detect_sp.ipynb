{
 "cells": [
  {
   "cell_type": "code",
   "execution_count": 1,
   "metadata": {
    "collapsed": true
   },
   "outputs": [],
   "source": [
    "import numpy as np\n",
    "import pandas as pd\n",
    "import seaborn as sns\n",
    "import matplotlib.colors as mcolors\n",
    "import matplotlib.pyplot as plt\n",
    "import warnings"
   ]
  },
  {
   "cell_type": "markdown",
   "metadata": {},
   "source": [
    "Install our package, then import it.\n",
    "\n",
    "_this is here as an example, and for development, eventually this install step shouldn't be in the notebooks, only in the main readme_"
   ]
  },
  {
   "cell_type": "code",
   "execution_count": 2,
   "metadata": {
    "collapsed": false
   },
   "outputs": [
    {
     "name": "stdout",
     "output_type": "stream",
     "text": [
      "Processing /home/smb/Documents/code/DetectSimpsonParadox\n",
      "Installing collected packages: detect-simpsons-paradox\n",
      "  Found existing installation: detect-simpsons-paradox 0.1\n",
      "    Uninstalling detect-simpsons-paradox-0.1:\n",
      "      Successfully uninstalled detect-simpsons-paradox-0.1\n",
      "  Running setup.py install for detect-simpsons-paradox: started\n",
      "    Running setup.py install for detect-simpsons-paradox: finished with status 'done'\n",
      "Successfully installed detect-simpsons-paradox-0.1\n"
     ]
    }
   ],
   "source": [
    "%%bash\n",
    "cd .. \n",
    "pip install . --upgrade"
   ]
  },
  {
   "cell_type": "code",
   "execution_count": 3,
   "metadata": {
    "collapsed": false
   },
   "outputs": [],
   "source": [
    "import detect_simpsons_paradox as dsp\n",
    "#warnings.simplefilter(action='ignore', category=FutureWarning)"
   ]
  },
  {
   "cell_type": "markdown",
   "metadata": {},
   "source": [
    "# Dataset Generation"
   ]
  },
  {
   "cell_type": "code",
   "execution_count": 4,
   "metadata": {
    "collapsed": true
   },
   "outputs": [],
   "source": [
    "N = 100\n",
    "# sample data from 2 clusters\n",
    "mu = np.asarray([[1,1],[5,5]])\n",
    "\n",
    "z = np.random.randint(0,2,N)\n",
    "x = np.asarray([np.random.multivariate_normal(mu[z_i],[[.6,-1],[0,.6]]) for z_i in z])\n",
    "\n",
    "x3 = np.random.normal(0, 10, N)\n",
    "latent_df = pd.DataFrame(data=x,\n",
    "                       columns = ['x1', 'x2'])\n",
    "# now we add somoe more columns\n",
    "color_z = {0:'r', 1:'b'}\n",
    "latent_df['x3'] = x3\n",
    "latent_df['color'] = [color_z[z_i] for z_i in z]\n",
    "\n",
    "char_zy = {0: {0:'x', 1:'o'}, 1:{0:'o', 1:'x'}}\n",
    "\n",
    "y = np.random.choice([0,1],N,p=[.7,.3])\n",
    "latent_df['y'] = y\n",
    "latent_df['char'] = [char_zy[zi][yi] for zi,yi in zip(z,y)]"
   ]
  },
  {
   "cell_type": "markdown",
   "metadata": {},
   "source": [
    "# Extract contiunous variables and categorical variables\n",
    "\n",
    "Categorical attributes' types contain 'object' and 'int64'.\n",
    "Continuous attributes' type contains float64."
   ]
  },
  {
   "cell_type": "code",
   "execution_count": 5,
   "metadata": {
    "collapsed": false
   },
   "outputs": [
    {
     "name": "stdout",
     "output_type": "stream",
     "text": [
      "['x1', 'x2', 'x3']\n",
      "['color', 'y', 'char']\n"
     ]
    }
   ],
   "source": [
    "# separate the continous attributes and categorical attributes from datasets\n",
    "groupbyAttrs = latent_df.select_dtypes(include=['object','int64'])\n",
    "continuousAttrs = latent_df.select_dtypes(include=['float64'])\n",
    "continuousAttrs_labels = list(continuousAttrs)\n",
    "groupbyAttrs_labels = list(groupbyAttrs)\n",
    "print(continuousAttrs_labels)\n",
    "print(groupbyAttrs_labels)"
   ]
  },
  {
   "cell_type": "markdown",
   "metadata": {},
   "source": [
    "Compute correaltion matrix for all of the data, then extract the upper triangle of the matrix.\n",
    "Generate the correaltion dataframe by correlation values and their discrete variables' index."
   ]
  },
  {
   "cell_type": "code",
   "execution_count": 6,
   "metadata": {
    "collapsed": false
   },
   "outputs": [
    {
     "name": "stdout",
     "output_type": "stream",
     "text": [
      "      value  attr1  attr2\n",
      "0  0.712814      0      1\n",
      "1 -0.031917      0      2\n",
      "2  0.118079      1      2\n"
     ]
    }
   ],
   "source": [
    "all_corr = latent_df[continuousAttrs_labels].corr()\n",
    "\n",
    "all_corr_df = dsp.upper_triangle_df(all_corr)\n",
    "all_corr_element = all_corr_df['value'].values\n",
    "print(all_corr_df)"
   ]
  },
  {
   "cell_type": "markdown",
   "metadata": {},
   "source": [
    "# Compare the signs of each correlation in the subgroup to the correlation for all\n",
    "After comparing, the reverse result will be stored in the result_df dataframe for further usage. "
   ]
  },
  {
   "cell_type": "code",
   "execution_count": 7,
   "metadata": {
    "collapsed": false
   },
   "outputs": [
    {
     "name": "stdout",
     "output_type": "stream",
     "text": [
      "    allCorr  attr1  attr2  reverseCorr groupbyAttr subgroup\n",
      "0  0.712814      0      1    -0.672484       color        b\n",
      "1  0.712814      0      1    -0.612158       color        r\n",
      "2 -0.031917      0      2     0.014900        char        o\n"
     ]
    }
   ],
   "source": [
    "# Define an empty dataframe for result\n",
    "result_df = pd.DataFrame()\n",
    "\n",
    "for groupbyAttr in groupbyAttrs_labels:\n",
    "    grouped_df_corr = latent_df.groupby(groupbyAttr)[continuousAttrs_labels].corr()\n",
    "    groupby_value = grouped_df_corr.index.get_level_values(groupbyAttr).unique()\n",
    "    \n",
    "    # get subgroup correlation\n",
    "    for subgroup in groupby_value:\n",
    "        subgroup_corr = grouped_df_corr.loc[subgroup]\n",
    "        \n",
    "        # Extract subgroup \n",
    "        subgroup_corr_elements = dsp.upper_triangle_element(subgroup_corr)\n",
    "        \n",
    "        # Compare the signs of each element in subgroup to the correlation for all of the data\n",
    "        # Get the index for reverse element\n",
    "        index_list = [i for i, (a,b) in enumerate(zip(all_corr_element, subgroup_corr_elements)) \n",
    "                      if dsp.isReverse(a, b)]\n",
    "        \n",
    "        # Get reverse elements' correlation values\n",
    "        reverse_list = [j for i, j in zip(all_corr_element, subgroup_corr_elements) \n",
    "                        if dsp.isReverse(i, j)]\n",
    "        \n",
    "        if reverse_list:\n",
    "            # Retrieve attribute information from all_corr_df\n",
    "            all_corr_info = [all_corr_df.loc[i].values for i in index_list]\n",
    "            temp_df = pd.DataFrame(data=all_corr_info,columns=['allCorr','attr1','attr2'])\n",
    "            \n",
    "            # Convert index from float to int\n",
    "            temp_df.attr1 = temp_df.attr1.astype(int)\n",
    "            temp_df.attr2 = temp_df.attr2.astype(int)\n",
    "            \n",
    "            temp_df[\"reverseCorr\"] = reverse_list\n",
    "            len_list = len(reverse_list)\n",
    "            # Store group attributes' information\n",
    "            temp_df['groupbyAttr'] = [groupbyAttr for i in range(len_list)]\n",
    "            temp_df['subgroup'] = [subgroup for i in range(len_list)]\n",
    "            result_df = result_df.append(temp_df, ignore_index=True)\n",
    "        \n",
    "print(result_df)"
   ]
  },
  {
   "cell_type": "markdown",
   "metadata": {},
   "source": [
    "# TODO Visualization (Hard code modify)"
   ]
  },
  {
   "cell_type": "code",
   "execution_count": 8,
   "metadata": {
    "collapsed": true
   },
   "outputs": [],
   "source": [
    "# group by color\n",
    "grouped_df_color = latent_df.groupby('color')['x1','x2','x3'].corr()\n",
    "blue=grouped_df_color.loc['b']\n",
    "red=grouped_df_color.loc['r']\n",
    "\n",
    "# group by char\n",
    "grouped_df_char = latent_df.groupby('char')['x1','x2','x3'].corr()\n",
    "char_o=grouped_df_char.loc['o']\n",
    "char_x=grouped_df_char.loc['x']\n",
    "\n",
    "# create a 0 matrix for the irrelvant cells\n",
    "s = (len(blue),len(blue))\n",
    "zero = np.zeros(s)\n",
    "\n",
    "# manipulate the subgroup matrix first after corr() method\n",
    "color_group=np.vstack([np.hstack([blue, zero]), np.hstack([zero, red])])\n",
    "\n",
    "# create a 0 matrix for the irrelvant cells\n",
    "s = (len(all_corr),len(color_group))\n",
    "zero1 = np.zeros(s)\n",
    "\n",
    "# combine the correlation matrix of all of the data with subgroup by color\n",
    "all_combined=np.vstack([np.hstack([all_corr, zero1]), np.hstack([zero1.transpose(), color_group])])\n",
    "\n",
    "# Combine char group\n",
    "s = (len(char_o),len(char_x))\n",
    "zero = np.zeros(s)\n",
    "char_group=np.vstack([np.hstack([char_o, zero]), np.hstack([zero, char_x])])\n",
    "s = (len(all_combined),len(char_group))\n",
    "zero1 = np.zeros(s)\n",
    "all_combined=np.vstack([np.hstack([all_combined, zero1]), np.hstack([zero1.transpose(), char_group])])"
   ]
  },
  {
   "cell_type": "markdown",
   "metadata": {},
   "source": [
    "__ why a heat map?__ "
   ]
  },
  {
   "cell_type": "code",
   "execution_count": 9,
   "metadata": {
    "collapsed": false
   },
   "outputs": [
    {
     "data": {
      "image/png": "[encoded data removed]",
      "text/plain": [
       "<matplotlib.figure.Figure at 0x7fbce4389710>"
      ]
     },
     "metadata": {},
     "output_type": "display_data"
    }
   ],
   "source": [
    "# Generate a heatmap for correlation matrix\n",
    "cmap = mcolors.LinearSegmentedColormap.from_list('mycmap', ['red', 'white', 'blue'])\n",
    "norm = plt.Normalize(-1,1)\n",
    "\n",
    "labels =  ['x1','x2','x3','x1_b','x2_b','x3_b','x1_r','x2_r','x3_r','x1_o','x2_o','x3_o','x1_x','x2_x','x3_x']\n",
    "plt.figure(figsize=(11, 9))\n",
    "\n",
    "ax = sns.heatmap(all_combined, cmap=cmap, annot=True, fmt=\".2f\", xticklabels=labels, yticklabels=labels, linewidths=.5, norm=norm, center=0)\n",
    "\n",
    "# Offset 0.00\n",
    "for t in ax.texts: \n",
    "    if t.get_text() == '0.00':\n",
    "        t.set_text(\"\")\n",
    "plt.show()"
   ]
  },
  {
   "cell_type": "code",
   "execution_count": null,
   "metadata": {
    "collapsed": true
   },
   "outputs": [],
   "source": []
  },
  {
   "cell_type": "code",
   "execution_count": null,
   "metadata": {
    "collapsed": true
   },
   "outputs": [],
   "source": []
  }
 ],
 "metadata": {
  "kernelspec": {
   "display_name": "Python 2",
   "language": "python",
   "name": "python2"
  },
  "language_info": {
   "codemirror_mode": {
    "name": "ipython",
    "version": 2
   },
   "file_extension": ".py",
   "mimetype": "text/x-python",
   "name": "python",
   "nbconvert_exporter": "python",
   "pygments_lexer": "ipython2",
   "version": "2.7.13"
  }
 },
 "nbformat": 4,
 "nbformat_minor": 2
}
