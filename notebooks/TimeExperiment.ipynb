{
 "cells": [
  {
   "cell_type": "markdown",
   "metadata": {},
   "source": [
    "# Timing Experiment"
   ]
  },
  {
   "cell_type": "code",
   "execution_count": 1,
   "metadata": {
    "collapsed": true
   },
   "outputs": [],
   "source": [
    "import numpy as np\n",
    "import pandas as pd\n",
    "import seaborn as sns\n",
    "import matplotlib.colors as mcolors\n",
    "import matplotlib.pyplot as plt\n",
    "import warnings\n",
    "import detect_simpsons_paradox as dsp\n",
    "import data_util as sp_dat\n",
    "import random\n",
    "import time\n",
    "import math\n",
    "from random import gauss"
   ]
  },
  {
   "cell_type": "markdown",
   "metadata": {},
   "source": [
    "Add extra parameter to method mixed_regression_sp for controling the number of extra attributes for continuous attributes and categorical attributes"
   ]
  },
  {
   "cell_type": "code",
   "execution_count": 2,
   "metadata": {
    "collapsed": true
   },
   "outputs": [],
   "source": [
    "def mixed_regression_sp(N, mu,cov,p,extra):\n",
    "    \n",
    "    k = len(mu)\n",
    "    \n",
    "    # sample from clusters\n",
    "    z = np.random.randint(0,k,N)\n",
    "    x = np.asarray([np.random.multivariate_normal(mu[z_i],cov) for z_i in z])\n",
    "\n",
    "    # make a dataframe\n",
    "    latent_df = pd.DataFrame(data=x,\n",
    "                           columns = ['x1', 'x2'])\n",
    "    \n",
    "    # add extra continuous column\n",
    "    for i in range(extra):\n",
    "        attrName = \"con_\" + str(i)\n",
    "        y = pd.DataFrame(data=np.random.normal(0, 100, N),columns=[attrName])\n",
    "        latent_df = pd.concat([latent_df, y], axis=1)\n",
    "        \n",
    "    # code z as color and add that as a column to the dataframe\n",
    "    color_z = {0:'r', 1:'b', 2:'g'}\n",
    "    \n",
    "    latent_df['color'] = [z_i for z_i in z]\n",
    "    \n",
    "    \n",
    "    # add extra categorical column\n",
    "    for i in range(extra):\n",
    "        attrName = \"cat_\" + str(i)\n",
    "        y = pd.DataFrame(data=np.random.choice(100,N),columns=[attrName])\n",
    "        latent_df = pd.concat([latent_df, y], axis=1)\n",
    "   \n",
    "    return latent_df"
   ]
  },
  {
   "cell_type": "code",
   "execution_count": 3,
   "metadata": {},
   "outputs": [],
   "source": [
    "from random import randint\n",
    "def random_with_N_digits(n):\n",
    "    range_start = 10**(n-1)\n",
    "    range_end = (10**n)-1\n",
    "    return randint(range_start, range_end)"
   ]
  },
  {
   "cell_type": "code",
   "execution_count": 4,
   "metadata": {},
   "outputs": [
    {
     "name": "stdout",
     "output_type": "stream",
     "text": [
      "Running time--- 12.00891399383545 seconds ---\n"
     ]
    },
    {
     "data": {
      "image/png": "[encoded data removed]",
      "text/plain": [
       "<matplotlib.figure.Figure at 0x11527dcc0>"
      ]
     },
     "metadata": {},
     "output_type": "display_data"
    }
   ],
   "source": [
    "start_time = time.time()\n",
    "N = int(math.pow(10,5))\n",
    "\n",
    "mu = np.asarray([[1,1],[5,5]])\n",
    "\n",
    "for i in range(30):\n",
    "    mu_x = random_with_N_digits(2);\n",
    "    variance = 1000\n",
    "    mu_y = gauss(mu_x, math.sqrt(variance))\n",
    "    mu_new = np.asarray([mu_x,mu_y])   \n",
    "    mu = np.append(mu,[mu_new],axis=0)  \n",
    "\n",
    "cov = [[.6,-1],[0,.6]]\n",
    "latent_df = mixed_regression_sp(N,mu,cov,[.7,.3],5)\n",
    "print(\"Running time--- %s seconds ---\" % (time.time() - start_time))\n",
    "\n",
    "plt.scatter(latent_df['x1'], latent_df['x2'],\n",
    "            c =  latent_df['color'], marker= 'o')\n",
    "plt.show()"
   ]
  },
  {
   "cell_type": "markdown",
   "metadata": {},
   "source": [
    "Time experiment for the whole dataset and the sampled dataset"
   ]
  },
  {
   "cell_type": "code",
   "execution_count": 5,
   "metadata": {},
   "outputs": [
    {
     "name": "stdout",
     "output_type": "stream",
     "text": [
      "--- 4.671674966812134 seconds ---\n",
      "10 Percent--- 3.5349819660186768 seconds ---\n",
      "30 Percent--- 3.3792779445648193 seconds ---\n",
      "50 Percent--- 3.4106218814849854 seconds ---\n",
      "60 Percent--- 3.5417470932006836 seconds ---\n",
      "90 Percent--- 3.6017298698425293 seconds ---\n"
     ]
    }
   ],
   "source": [
    "start_time = time.time()\n",
    "test = dsp.detect_simpsons_paradox(latent_df)\n",
    "print(\"--- %s seconds ---\" % (time.time() - start_time))\n",
    "\n",
    "#################\n",
    "rows1 = random.sample(list(latent_df.index), int(len(latent_df)*0.1))\n",
    "latent_df1 = latent_df.loc[rows1]\n",
    "\n",
    "start_time = time.time()\n",
    "test1 = dsp.detect_simpsons_paradox(latent_df1)\n",
    "print(\"10 Percent--- %s seconds ---\" % (time.time() - start_time))\n",
    "\n",
    "################\n",
    "rows3 = random.sample(list(latent_df.index), int(len(latent_df)*0.3))\n",
    "latent_df3 = latent_df.loc[rows3]\n",
    "\n",
    "start_time = time.time()\n",
    "test3 = dsp.detect_simpsons_paradox(latent_df3)\n",
    "print(\"30 Percent--- %s seconds ---\" % (time.time() - start_time))\n",
    "\n",
    "################\n",
    "rows5 = random.sample(list(latent_df.index), int(len(latent_df)*0.5))\n",
    "latent_df5 = latent_df.loc[rows5]\n",
    "\n",
    "start_time = time.time()\n",
    "test5 = dsp.detect_simpsons_paradox(latent_df5)\n",
    "print(\"50 Percent--- %s seconds ---\" % (time.time() - start_time))\n",
    "\n",
    "#################\n",
    "rows6 = random.sample(list(latent_df.index), int(len(latent_df)*0.6))\n",
    "latent_df6 = latent_df.loc[rows6]\n",
    "\n",
    "start_time = time.time()\n",
    "test6 = dsp.detect_simpsons_paradox(latent_df6)\n",
    "print(\"60 Percent--- %s seconds ---\" % (time.time() - start_time))\n",
    "\n",
    "##################\n",
    "rows9 = random.sample(list(latent_df.index), int(len(latent_df)*0.9))\n",
    "latent_df9 = latent_df.loc[rows9]\n",
    "\n",
    "start_time = time.time()\n",
    "test9 = dsp.detect_simpsons_paradox(latent_df9)\n",
    "print(\"90 Percent--- %s seconds ---\" % (time.time() - start_time))"
   ]
  },
  {
   "cell_type": "code",
   "execution_count": 6,
   "metadata": {
    "collapsed": true
   },
   "outputs": [],
   "source": [
    "dfTime = pd.read_csv(\"SamplingTime1.csv\", names=['percent',\n",
    "                 '100K',\n",
    "                 '500K',\n",
    "                 '1M'])"
   ]
  },
  {
   "cell_type": "code",
   "execution_count": null,
   "metadata": {
    "collapsed": true
   },
   "outputs": [],
   "source": []
  }
 ],
 "metadata": {
  "kernelspec": {
   "display_name": "Python 3",
   "language": "python",
   "name": "python3"
  },
  "language_info": {
   "codemirror_mode": {
    "name": "ipython",
    "version": 3
   },
   "file_extension": ".py",
   "mimetype": "text/x-python",
   "name": "python",
   "nbconvert_exporter": "python",
   "pygments_lexer": "ipython3",
   "version": "3.6.1"
  }
 },
 "nbformat": 4,
 "nbformat_minor": 2
}
