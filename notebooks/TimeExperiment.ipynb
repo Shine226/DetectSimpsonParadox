{
 "cells": [
  {
   "cell_type": "markdown",
   "metadata": {},
   "source": [
    "# Timing Experiment"
   ]
  },
  {
   "cell_type": "code",
   "execution_count": 1,
   "metadata": {
    "collapsed": true
   },
   "outputs": [],
   "source": [
    "import numpy as np\n",
    "import pandas as pd\n",
    "import seaborn as sns\n",
    "import matplotlib.colors as mcolors\n",
    "import matplotlib.pyplot as plt\n",
    "import warnings\n",
    "import detect_simpsons_paradox as dsp\n",
    "import data_util as sp_dat\n",
    "import random\n",
    "import time\n",
    "import math\n",
    "from random import gauss"
   ]
  },
  {
   "cell_type": "markdown",
   "metadata": {},
   "source": [
    "Add extra parameter to method mixed_regression_sp for controling the number of extra attributes for continuous attributes and categorical attributes"
   ]
  },
  {
   "cell_type": "code",
   "execution_count": 2,
   "metadata": {
    "collapsed": true
   },
   "outputs": [],
   "source": [
    "def mixed_regression_sp(N, mu,cov,p,extra):\n",
    "    \n",
    "    k = len(mu)\n",
    "    \n",
    "    # sample from clusters\n",
    "    z = np.random.randint(0,k,N)\n",
    "    x = np.asarray([np.random.multivariate_normal(mu[z_i],cov) for z_i in z])\n",
    "\n",
    "    # make a dataframe\n",
    "    latent_df = pd.DataFrame(data=x,\n",
    "                           columns = ['x1', 'x2'])\n",
    "    \n",
    "    # add extra continuous column\n",
    "    for i in range(extra):\n",
    "        attrName = \"con_\" + str(i)\n",
    "        y = pd.DataFrame(data=np.random.normal(0, 100, N),columns=[attrName])\n",
    "        latent_df = pd.concat([latent_df, y], axis=1)\n",
    "        \n",
    "    # code z as color and add that as a column to the dataframe\n",
    "    color_z = {0:'r', 1:'b', 2:'g'}\n",
    "    \n",
    "    latent_df['color'] = [z_i for z_i in z]\n",
    "    \n",
    "    \n",
    "    # add extra categorical column\n",
    "    for i in range(extra):\n",
    "        attrName = \"cat_\" + str(i)\n",
    "        y = pd.DataFrame(data=np.random.choice(100,N),columns=[attrName])\n",
    "        latent_df = pd.concat([latent_df, y], axis=1)\n",
    "   \n",
    "    return latent_df"
   ]
  },
  {
   "cell_type": "code",
   "execution_count": 3,
   "metadata": {},
   "outputs": [],
   "source": [
    "from random import randint\n",
    "def random_with_N_digits(n):\n",
    "    range_start = 10**(n-1)\n",
    "    range_end = (10**n)-1\n",
    "    return randint(range_start, range_end)"
   ]
  },
  {
   "cell_type": "code",
   "execution_count": 4,
   "metadata": {},
   "outputs": [
    {
     "name": "stdout",
     "output_type": "stream",
     "text": [
      "Running time--- 11.310880899429321 seconds ---\n"
     ]
    },
    {
     "data": {
      "image/png": "[encoded data removed]",
      "text/plain": [
       "<matplotlib.figure.Figure at 0x116210e48>"
      ]
     },
     "metadata": {},
     "output_type": "display_data"
    }
   ],
   "source": [
    "start_time = time.time()\n",
    "N = int(math.pow(10,5))\n",
    "\n",
    "mu = np.asarray([[1,1],[5,5]])\n",
    "\n",
    "for i in range(30):\n",
    "    mu_x = random_with_N_digits(2);\n",
    "    variance = 1000\n",
    "    mu_y = gauss(mu_x, math.sqrt(variance))\n",
    "    mu_new = np.asarray([mu_x,mu_y])   \n",
    "    mu = np.append(mu,[mu_new],axis=0)  \n",
    "\n",
    "cov = [[.6,-1],[0,.6]]\n",
    "latent_df = mixed_regression_sp(N,mu,cov,[.7,.3],5)\n",
    "print(\"Running time--- %s seconds ---\" % (time.time() - start_time))\n",
    "\n",
    "plt.scatter(latent_df['x1'], latent_df['x2'],\n",
    "            c =  latent_df['color'], marker= 'o')\n",
    "plt.show()"
   ]
  },
  {
   "cell_type": "code",
   "execution_count": null,
   "metadata": {
    "collapsed": true
   },
   "outputs": [],
   "source": []
  }
 ],
 "metadata": {
  "kernelspec": {
   "display_name": "Python 3",
   "language": "python",
   "name": "python3"
  },
  "language_info": {
   "codemirror_mode": {
    "name": "ipython",
    "version": 3
   },
   "file_extension": ".py",
   "mimetype": "text/x-python",
   "name": "python",
   "nbconvert_exporter": "python",
   "pygments_lexer": "ipython3",
   "version": "3.6.1"
  }
 },
 "nbformat": 4,
 "nbformat_minor": 2
}
