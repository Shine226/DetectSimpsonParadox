{
  "cells": [
    {
      "cell_type": "code",
      "execution_count": null,
      "metadata": {
        "collapsed": false
      },
      "outputs": [],
      "source": [
        "%matplotlib inline"
      ]
    },
    {
      "cell_type": "markdown",
      "metadata": {},
      "source": [
        "\nAuto MPG Dataset Experiments Example\n=====================================\n\nTHis example is detials on the auto mpg experiemtns incldued in our flairs 31 paper.\n\n"
      ]
    },
    {
      "cell_type": "code",
      "execution_count": null,
      "metadata": {
        "collapsed": false
      },
      "outputs": [],
      "source": [
        "# coding: utf-8\n\n# # Auto Miles Per Gallon Data Experiments\n#\n# This notebook runs the experiments and generates the figures on the [auto mpg data](https://archive.ics.uci.edu/ml/datasets/auto+mpg). We are working with a subset of the data created by:\n#\n#  1. selecting a subset of columns to suit our problem setting: three continuous (mpg, acceleration, and horsepower) and three categorical attributes (cylinders, model year, and origin)\n#  1. removing incomplete records\n#\n# This notebook generates the results and figures related to the AutoMPG experiments\n\nimport numpy as np\nimport pandas as pd\nimport seaborn as sns\nimport matplotlib.colors as mcolors\nimport matplotlib.pyplot as plt\n\n# clean up notebook output by removing warnings about future changes\nimport warnings\nwarnings.simplefilter(action='ignore', category=FutureWarning)\n\n# our code packaged for easy use\nimport detect_simpsons_paradox as dsp\n\n# import the prepared copy of the data\nauto_df = pd.read_csv('../data/auto2.csv')\nauto_df.head()"
      ]
    },
    {
      "cell_type": "markdown",
      "metadata": {},
      "source": [
        "From examining the above, we know that the integer columns are the group-by\nvariables and the float type variables  are the continuous attributes. The\ndetector function will automatically\n\n"
      ]
    },
    {
      "cell_type": "code",
      "execution_count": null,
      "metadata": {
        "collapsed": false
      },
      "outputs": [],
      "source": [
        "groupbyAttrs = auto_df.select_dtypes(include=['int64'])\ngroupbyAttrs_labels = list(groupbyAttrs)\nprint(groupbyAttrs_labels)\n\n\ncontinuousAttrs = auto_df.select_dtypes(include=['float64'])\ncontinuousAttrs_labels = list(continuousAttrs)\nprint(continuousAttrs_labels)"
      ]
    },
    {
      "cell_type": "markdown",
      "metadata": {},
      "source": [
        "Now we can run our algorithm and print out the results after a little bit of\npost-processing to improve readability.\n\n"
      ]
    },
    {
      "cell_type": "code",
      "execution_count": null,
      "metadata": {
        "collapsed": false
      },
      "outputs": [],
      "source": [
        "# In[19]:\n\n# run detection algorithm\nresult_df = dsp.detect_simpsons_paradox(auto_df)\n\n# Map attribute index to attribute name\nresult_df['attr1'] = result_df['attr1'].map(lambda x:continuousAttrs_labels[x])\nresult_df['attr2'] = result_df['attr2'].map(lambda x:continuousAttrs_labels[x])\n# sort for easy reading\nresult_df = result_df.sort_values(['attr1', 'attr2'], ascending=[1, 1])"
      ]
    },
    {
      "cell_type": "markdown",
      "metadata": {},
      "source": [
        "data frames print neatly in notebooks\n\n"
      ]
    },
    {
      "cell_type": "code",
      "execution_count": null,
      "metadata": {
        "collapsed": false
      },
      "outputs": [],
      "source": [
        "print(result_df)"
      ]
    },
    {
      "cell_type": "markdown",
      "metadata": {},
      "source": [
        "# Plotting\n\nWe plot all data in scatter plots based on each group by attribute, for each\npair of candidate attributes. For each plot we add the overall trendline and\n the trend line for each occurence of Simpson's Paradox.\n\n"
      ]
    },
    {
      "cell_type": "code",
      "execution_count": null,
      "metadata": {
        "collapsed": false
      },
      "outputs": [],
      "source": [
        "# In[8]:\n\nprint(auto_df.cylinders.unique())\nprint(auto_df['model year'].unique())\n\n\n# In[9]:\n\nfig = plt.figure()\ncolors = {'3':'red', '4':'blue', '5':'purple', '6':'black','8':'green'}\nmarkers = {'3':'x', '4':'o', '5':'s','6':'*','8':'d'}\n\n#plt.scatter(auto_df['mpg'], auto_df['acceleration'], c=auto_df['cylinders'].apply(lambda x: colors[str(x)]))\nfor i in range(len(auto_df['mpg'])):\n    plt.scatter(auto_df['mpg'][i], auto_df['acceleration'][i], c=colors[str(auto_df['cylinders'][i])], marker=markers[str(auto_df['cylinders'][i])], label=auto_df['cylinders'][i])\n\nplt.xlabel('mpg',  fontsize=24)\nplt.ylabel('acceleration', fontsize=24)\nplt.xticks(fontsize = 20)\nplt.yticks(fontsize = 20)\n\n#import matplotlib.patches as mpatches\n#red_patch = mpatches.Patch(color='red', label='3')\n#green_patch = mpatches.Patch(color='blue', label='4')\n#purple_patch = mpatches.Patch(color='purple', label='5')\n#black_patch = mpatches.Patch(color='black', label='6')\n#green_patch = mpatches.Patch(color='green', label='8')\n#plt.legend(handles=[red_patch, green_patch, blue_patch,black_patch,orange_patch])\n\nfrom collections import OrderedDict\nhandles, labels = plt.gca().get_legend_handles_labels()\nby_label = OrderedDict(zip(labels, handles))\nplt.legend(by_label.values(), by_label.keys(), prop={'size':15})\n\n# Add correlation line\naxes = plt.gca()\nx = auto_df['mpg']\ny = auto_df['acceleration']\n\nm, b = np.polyfit(x, y, 1)\nX_plot = np.linspace(axes.get_xlim()[0],axes.get_xlim()[1],100)\nplt.plot(X_plot, m*X_plot + b, '--',color='black')\n\ncylinder3 = auto_df[auto_df['cylinders'] ==3]\ncylinder6 = auto_df[auto_df['cylinders'] ==6]\nx1 = cylinder3['mpg']\ny1 = cylinder3['acceleration']\n\nm1, b1 = np.polyfit(x1, y1, 1)\n#print(axes.get_xlim()[0])\n#print(axes.get_xlim()[1])\nX_plot1 = np.linspace(5,48,100)\nplt.plot(X_plot1, m1*X_plot1 + b1, '-', color='red')\n\nx2 = cylinder6['mpg']\ny2 = cylinder6['acceleration']\n\nm, b = np.polyfit(x2, y2, 1)\nX_plot = np.linspace(5,48,100)\nplt.plot(X_plot, m*X_plot + b, '-', color='black')\n\nplt.show()\n\n#fig.savefig('auto1.jpg')\n\n\n# In[10]:\n\nfig = plt.figure()\ncolors = {'70':'coral', '71':'blue', '72':'purple', '73':'orange','74':'green', '75':'black', '76':'grey','77':'gold', '78':'lightgreen','79':'red', '80':'cyan', '81':'skyblue','82':'pink'}\nmarkers = {'70':'x', '71':'o', '72':'s','73':'*','74':'d', '75':'v', '76':'^','77':'<', '78':'>','79':'1', '80':'2', '81':'3','82':'4'}\n\n#plt.scatter(auto_df['mpg'], auto_df['acceleration'], c=auto_df['cylinders'].apply(lambda x: colors[str(x)]))\nfor i in range(len(auto_df['mpg'])):\n    plt.scatter(auto_df['mpg'][i], auto_df['acceleration'][i], c=colors[str(auto_df['model year'][i])], marker=markers[str(auto_df['model year'][i])], label=auto_df['model year'][i])\n\n\n#plt.scatter(auto_df['mpg'], auto_df['acceleration'], c=auto_df['model year'].apply(lambda x: colors[str(x)]))\n\nplt.xlabel('mpg',  fontsize=24)\nplt.ylabel('acceleration', fontsize=24)\nplt.xticks(fontsize = 20)\nplt.yticks(fontsize = 20)\n#import matplotlib.patches as mpatches\n#patch1 = mpatches.Patch(color='coral', label='70')\n#patch2 = mpatches.Patch(color='blue', label='71')\n#patch3 = mpatches.Patch(color='purple', label='72')\n#patch4 = mpatches.Patch(color='orange', label='73')\n#patch5 = mpatches.Patch(color='green', label='74')\n#patch6 = mpatches.Patch(color='black', label='75')\n#patch7 = mpatches.Patch(color='grey', label='76')\n#patch8 = mpatches.Patch(color='gold', label='77')\n#patch9 = mpatches.Patch(color='lightgreen', label='78')\n#patch10 = mpatches.Patch(color='red', label='79')\n#patch11 = mpatches.Patch(color='cyan', label='80')\n#patch12 = mpatches.Patch(color='skyblue', label='81')\n#patch13 = mpatches.Patch(color='pink', label='82')\n\n#plt.legend(handles=[patch1, patch2, patch3,patch4,patch5,patch6, patch7, patch8,patch9,patch10,patch11, patch12, patch13])\nfrom collections import OrderedDict\nhandles, labels = plt.gca().get_legend_handles_labels()\nby_label = OrderedDict(zip(labels, handles))\nplt.legend(by_label.values(), by_label.keys(), prop={'size':15})\n\n\n# Add correlation line\naxes = plt.gca()\nx = auto_df['mpg']\ny = auto_df['acceleration']\n\nm, b = np.polyfit(x, y, 1)\nX_plot = np.linspace(axes.get_xlim()[0],axes.get_xlim()[1],100)\nplt.plot(X_plot, m*X_plot + b, '--',color='black')\n\ncylinder3 = auto_df[auto_df['model year'] ==75]\ncylinder6 = auto_df[auto_df['model year'] ==79]\nx1 = cylinder3['mpg']\ny1 = cylinder3['acceleration']\n\nm1, b1 = np.polyfit(x1, y1, 1)\n#print(axes.get_xlim()[0])\n#print(axes.get_xlim()[1])\nX_plot1 = np.linspace(5,48,100)\nplt.plot(X_plot1, m1*X_plot1 + b1, '-', color='red')\n\nx2 = cylinder6['mpg']\ny2 = cylinder6['acceleration']\n\nm, b = np.polyfit(x2, y2, 1)\nX_plot = np.linspace(5,48,100)\nplt.plot(X_plot, m*X_plot + b, '-', color='black')\n\nplt.show()\n\n#fig.savefig('auto2.jpg')\n\n\n#\n\n# In[11]:\n\nfig = plt.figure()\ncolors = {'3':'red', '4':'blue', '5':'purple', '6':'black','8':'green'}\nmarkers = {'3':'x', '4':'o', '5':'s','6':'*','8':'d'}\n\nfor i in range(len(auto_df['mpg'])):\n    plt.scatter(auto_df['mpg'][i], auto_df['horsepower'][i], c=colors[str(auto_df['cylinders'][i])], marker=markers[str(auto_df['cylinders'][i])], label=auto_df['cylinders'][i])\n\n#plt.scatter(auto_df['mpg'], auto_df['horsepower'], c=auto_df['cylinders'].apply(lambda x: colors[str(x)]))\n\nplt.xlabel('mpg',  fontsize=24)\nplt.ylabel('horsepower', fontsize=24)\nplt.xticks(fontsize = 20)\nplt.yticks(fontsize = 20)\n#import matplotlib.patches as mpatches\n#red_patch = mpatches.Patch(color='red', label='3')\n#green_patch = mpatches.Patch(color='blue', label='4')\n#purple_patch = mpatches.Patch(color='purple', label='5')\n#black_patch = mpatches.Patch(color='black', label='6')\n#green_patch = mpatches.Patch(color='green', label='8')\n#plt.legend(handles=[red_patch, green_patch, blue_patch,black_patch,orange_patch])\nfrom collections import OrderedDict\nhandles, labels = plt.gca().get_legend_handles_labels()\nby_label = OrderedDict(zip(labels, handles))\nplt.legend(by_label.values(), by_label.keys(), prop={'size':15}, loc = 1)\n\n\n# Add correlation line\naxes = plt.gca()\nx = auto_df['mpg']\ny = auto_df['horsepower']\n\nm, b = np.polyfit(x, y, 1)\nX_plot = np.linspace(axes.get_xlim()[0],axes.get_xlim()[1],100)\nplt.plot(X_plot, m*X_plot + b, '--',color='black')\n\ncylinder3 = auto_df[auto_df['cylinders'] ==3]\ncylinder6 = auto_df[auto_df['cylinders'] ==6]\nx1 = cylinder3['mpg']\ny1 = cylinder3['horsepower']\n\nm1, b1 = np.polyfit(x1, y1, 1)\n#print(axes.get_xlim()[0])\n#print(axes.get_xlim()[1])\nX_plot1 = np.linspace(5,48,100)\nplt.plot(X_plot1, m1*X_plot1 + b1, '-', color='red')\n\nx2 = cylinder6['mpg']\ny2 = cylinder6['horsepower']\n\nm, b = np.polyfit(x2, y2, 1)\nX_plot = np.linspace(5,48,100)\nplt.plot(X_plot, m*X_plot + b, '-', color='black')\n\nplt.show()\n\n#fig.savefig('auto3.jpg')"
      ]
    }
  ],
  "metadata": {
    "kernelspec": {
      "display_name": "Python 3",
      "language": "python",
      "name": "python3"
    },
    "language_info": {
      "codemirror_mode": {
        "name": "ipython",
        "version": 3
      },
      "file_extension": ".py",
      "mimetype": "text/x-python",
      "name": "python",
      "nbconvert_exporter": "python",
      "pygments_lexer": "ipython3",
      "version": "3.6.4"
    }
  },
  "nbformat": 4,
  "nbformat_minor": 0
}